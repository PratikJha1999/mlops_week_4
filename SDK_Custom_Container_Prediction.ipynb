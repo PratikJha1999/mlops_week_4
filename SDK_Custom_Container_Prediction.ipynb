{
 "cells": [
  {
   "cell_type": "markdown",
   "metadata": {
    "id": "JAPoU8Sm5E6e"
   },
   "source": [
    "# Deploying Iris-detection model using Vertex AI\n"
   ]
  },
  {
   "cell_type": "markdown",
   "metadata": {
    "id": "tvgnzT1CKxrO",
    "tags": []
   },
   "source": [
    "## Overview\n",
    "\n",
    "In this tutorial, you build a scikit-learn model and deploy it on Vertex AI using the custom container method. You use the FastAPI Python web server framework to create a prediction endpoint. You also incorporate a preprocessor from training pipeline into your online serving application.\n",
    "\n",
    "Learn more about [Custom training](https://cloud.google.com/vertex-ai/docs/training/custom-training) and [Vertex AI Prediction](https://cloud.google.com/vertex-ai/docs/predictions/get-predictions)."
   ]
  },
  {
   "cell_type": "markdown",
   "metadata": {
    "id": "cbd99f7bfc8e",
    "tags": []
   },
   "source": [
    "### Objective\n",
    "\n",
    "In this notebook, you learn how to create, deploy and serve a custom classification model on Vertex AI. This notebook focuses more on deploying the model than on the design of the model itself. \n",
    "\n",
    "\n",
    "This tutorial uses the following Vertex AI services and resources:\n",
    "\n",
    "- Vertex AI models\n",
    "- Vertex AI endpoints\n",
    "\n",
    "The steps performed include:\n",
    "\n",
    "- Train a model that uses flower's measurements as input to predict the class of iris.\n",
    "- Save the model and its serialized pre-processor.\n",
    "- Build a FastAPI server to handle predictions and health checks.\n",
    "- Build a custom container with model artifacts.\n",
    "- Upload and deploy custom container to Vertex AI Endpoints."
   ]
  },
  {
   "cell_type": "markdown",
   "metadata": {
    "id": "0fe0bb78c9ce",
    "tags": []
   },
   "source": [
    "### Dataset\n",
    "\n",
    "This tutorial uses R.A. Fisher's Iris dataset, a small and popular dataset for machine learning experiments. Each instance has four numerical features, which are different measurements of a flower, and a target label that\n",
    "categorizes the flower into: **Iris setosa**, **Iris versicolour** and **Iris virginica**.\n",
    "\n",
    "This tutorial uses [a version of the Iris dataset available in the\n",
    "scikit-learn library](https://scikit-learn.org/stable/modules/generated/sklearn.datasets.load_iris.html#sklearn.datasets.load_iris)."
   ]
  },
  {
   "cell_type": "markdown",
   "metadata": {
    "id": "c681f532cf64"
   },
   "source": [
    "### Costs \n",
    "\n",
    "This tutorial uses billable components of Google Cloud:\n",
    "\n",
    "* Vertex AI\n",
    "* Cloud Storage\n",
    "* Artifact Registry\n",
    "* Cloud Build\n",
    "\n",
    "Learn about [Vertex AI\n",
    "pricing](https://cloud.google.com/vertex-ai/pricing), [Cloud Storage\n",
    "pricing](https://cloud.google.com/storage/pricing), [Artifact Registry pricing](https://cloud.google.com/artifact-registry/pricing) and [Cloud Build pricing](https://cloud.google.com/build/pricing) and use the [Pricing\n",
    "Calculator](https://cloud.google.com/products/calculator/)\n",
    "to generate a cost estimate based on your projected usage."
   ]
  },
  {
   "cell_type": "markdown",
   "metadata": {
    "id": "f0316df526f8"
   },
   "source": [
    "## Get started"
   ]
  },
  {
   "cell_type": "markdown",
   "metadata": {
    "id": "9065e8d7f0fb"
   },
   "source": [
    "### Install Vertex AI SDK for Python and other required packages\n",
    "\n"
   ]
  },
  {
   "cell_type": "code",
   "execution_count": 3,
   "metadata": {
    "id": "1fd00fa70a2a",
    "tags": []
   },
   "outputs": [],
   "source": [
    "\n",
    "# Vertex SDK for Python\n",
    "! pip3 install --upgrade --quiet  google-cloud-aiplatform"
   ]
  },
  {
   "cell_type": "markdown",
   "metadata": {
    "id": "yfEglUHQk9S3"
   },
   "source": [
    "### Set Google Cloud project information \n",
    "Learn more about [setting up a project and a development environment](https://cloud.google.com/vertex-ai/docs/start/cloud-environment)."
   ]
  },
  {
   "cell_type": "code",
   "execution_count": 4,
   "metadata": {
    "id": "set_project_id",
    "tags": []
   },
   "outputs": [],
   "source": [
    "PROJECT_ID = \"strange-bird-459907-u3\"  # @param {type:\"string\"}\n",
    "LOCATION = \"us-central1\"  # @param {type:\"string\"}"
   ]
  },
  {
   "cell_type": "markdown",
   "metadata": {
    "id": "bucket:mbsdk"
   },
   "source": [
    "### Create a Cloud Storage bucket\n",
    "\n",
    "Create a storage bucket to store intermediate artifacts such as datasets."
   ]
  },
  {
   "cell_type": "code",
   "execution_count": 5,
   "metadata": {
    "id": "bucket",
    "tags": []
   },
   "outputs": [],
   "source": [
    "BUCKET_URI = f\"gs://mlops-course-strange-bird-459907-u3-unique\"  # @param {type:\"string\"}"
   ]
  },
  {
   "cell_type": "markdown",
   "metadata": {
    "id": "create_bucket"
   },
   "source": [
    "**If your bucket doesn't already exist**: Run the following cell to create your Cloud Storage bucket."
   ]
  },
  {
   "cell_type": "code",
   "execution_count": 6,
   "metadata": {
    "id": "create_bucket",
    "tags": []
   },
   "outputs": [
    {
     "name": "stdout",
     "output_type": "stream",
     "text": [
      "Creating gs://mlops-course-strange-bird-459907-u3-unique/...\n"
     ]
    }
   ],
   "source": [
    "! gsutil mb -l {LOCATION} -p {PROJECT_ID} {BUCKET_URI}"
   ]
  },
  {
   "cell_type": "markdown",
   "metadata": {
    "id": "3330b4f12a0d"
   },
   "source": [
    "### Initialize Vertex AI SDK for Python\n",
    "\n",
    "To get started using Vertex AI, you must have an existing Google Cloud project and [enable the Vertex AI API](https://console.cloud.google.com/flows/enableapi?apiid=aiplatform.googleapis.com). "
   ]
  },
  {
   "cell_type": "code",
   "execution_count": 9,
   "metadata": {
    "id": "e088ea8cd4a0",
    "tags": []
   },
   "outputs": [],
   "source": [
    "from google.cloud import aiplatform\n",
    "\n",
    "aiplatform.init(project=PROJECT_ID, location=LOCATION, staging_bucket=BUCKET_URI)"
   ]
  },
  {
   "cell_type": "markdown",
   "metadata": {
    "id": "d3938f6d37a1"
   },
   "source": [
    "### Import the required libraries"
   ]
  },
  {
   "cell_type": "code",
   "execution_count": 10,
   "metadata": {
    "id": "e95ca1e5e07c",
    "tags": []
   },
   "outputs": [],
   "source": [
    "import os\n",
    "import sys"
   ]
  },
  {
   "cell_type": "markdown",
   "metadata": {
    "id": "XoEqT2Y4DJmf"
   },
   "source": [
    "### Configure resource names\n",
    "\n",
    "Set a name for the following parameters:\n",
    "\n",
    "`MODEL_ARTIFACT_DIR` - Folder directory path to your model artifacts within a Cloud Storage bucket, for example: \"my-models/fraud-detection/trial-4\"\n",
    "\n",
    "`REPOSITORY` - Name of the Artifact Repository to create or use.\n",
    "\n",
    "`IMAGE` - Name of the container image that is pushed to the repository.\n",
    "\n",
    "`MODEL_DISPLAY_NAME` - Display name of Vertex AI model resource."
   ]
  },
  {
   "cell_type": "code",
   "execution_count": 11,
   "metadata": {
    "id": "MzGDU7TWdts_",
    "tags": []
   },
   "outputs": [],
   "source": [
    "MODEL_ARTIFACT_DIR = \"my-models/iris-classifier-week-1\"  # @param {type:\"string\"}\n",
    "REPOSITORY = \"iris-classifier-repo\"  # @param {type:\"string\"}\n",
    "IMAGE = \"iris-classifier-img\"  # @param {type:\"string\"}\n",
    "MODEL_DISPLAY_NAME = \"iris-classifier\"  # @param {type:\"string\"}\n",
    "\n",
    "# Set the defaults if no names were specified\n",
    "if MODEL_ARTIFACT_DIR == \"[your-artifact-directory]\":\n",
    "    MODEL_ARTIFACT_DIR = \"custom-container-prediction-model\"\n",
    "\n",
    "if REPOSITORY == \"[your-repository-name]\":\n",
    "    REPOSITORY = \"custom-container-prediction\"\n",
    "\n",
    "if IMAGE == \"[your-image-name]\":\n",
    "    IMAGE = \"sklearn-fastapi-server\"\n",
    "\n",
    "if MODEL_DISPLAY_NAME == \"[your-model-display-name]\":\n",
    "    MODEL_DISPLAY_NAME = \"sklearn-custom-container\""
   ]
  },
  {
   "cell_type": "markdown",
   "metadata": {
    "id": "3c2d091d9e73"
   },
   "source": [
    "## Simple Decision Tree model\n",
    "Build a Decision Tree model on iris data"
   ]
  },
  {
   "cell_type": "code",
   "execution_count": 12,
   "metadata": {
    "tags": []
   },
   "outputs": [
    {
     "data": {
      "text/html": [
       "<div>\n",
       "<style scoped>\n",
       "    .dataframe tbody tr th:only-of-type {\n",
       "        vertical-align: middle;\n",
       "    }\n",
       "\n",
       "    .dataframe tbody tr th {\n",
       "        vertical-align: top;\n",
       "    }\n",
       "\n",
       "    .dataframe thead th {\n",
       "        text-align: right;\n",
       "    }\n",
       "</style>\n",
       "<table border=\"1\" class=\"dataframe\">\n",
       "  <thead>\n",
       "    <tr style=\"text-align: right;\">\n",
       "      <th></th>\n",
       "      <th>sepal_length</th>\n",
       "      <th>sepal_width</th>\n",
       "      <th>petal_length</th>\n",
       "      <th>petal_width</th>\n",
       "      <th>species</th>\n",
       "    </tr>\n",
       "  </thead>\n",
       "  <tbody>\n",
       "    <tr>\n",
       "      <th>0</th>\n",
       "      <td>5.1</td>\n",
       "      <td>3.5</td>\n",
       "      <td>1.4</td>\n",
       "      <td>0.2</td>\n",
       "      <td>setosa</td>\n",
       "    </tr>\n",
       "    <tr>\n",
       "      <th>1</th>\n",
       "      <td>4.9</td>\n",
       "      <td>3.0</td>\n",
       "      <td>1.4</td>\n",
       "      <td>0.2</td>\n",
       "      <td>setosa</td>\n",
       "    </tr>\n",
       "    <tr>\n",
       "      <th>2</th>\n",
       "      <td>4.7</td>\n",
       "      <td>3.2</td>\n",
       "      <td>1.3</td>\n",
       "      <td>0.2</td>\n",
       "      <td>setosa</td>\n",
       "    </tr>\n",
       "    <tr>\n",
       "      <th>3</th>\n",
       "      <td>4.6</td>\n",
       "      <td>3.1</td>\n",
       "      <td>1.5</td>\n",
       "      <td>0.2</td>\n",
       "      <td>setosa</td>\n",
       "    </tr>\n",
       "    <tr>\n",
       "      <th>4</th>\n",
       "      <td>5.0</td>\n",
       "      <td>3.6</td>\n",
       "      <td>1.4</td>\n",
       "      <td>0.2</td>\n",
       "      <td>setosa</td>\n",
       "    </tr>\n",
       "  </tbody>\n",
       "</table>\n",
       "</div>"
      ],
      "text/plain": [
       "   sepal_length  sepal_width  petal_length  petal_width species\n",
       "0           5.1          3.5           1.4          0.2  setosa\n",
       "1           4.9          3.0           1.4          0.2  setosa\n",
       "2           4.7          3.2           1.3          0.2  setosa\n",
       "3           4.6          3.1           1.5          0.2  setosa\n",
       "4           5.0          3.6           1.4          0.2  setosa"
      ]
     },
     "execution_count": 12,
     "metadata": {},
     "output_type": "execute_result"
    }
   ],
   "source": [
    "import pandas as pd\n",
    "import numpy as np\n",
    "from sklearn.model_selection import train_test_split\n",
    "from pandas.plotting import parallel_coordinates\n",
    "from sklearn.tree import DecisionTreeClassifier, plot_tree\n",
    "from sklearn import metrics\n",
    "\n",
    "data = pd.read_csv('iris.csv')\n",
    "data.head(5)"
   ]
  },
  {
   "cell_type": "code",
   "execution_count": 13,
   "metadata": {
    "tags": []
   },
   "outputs": [],
   "source": [
    "train, test = train_test_split(data, test_size = 0.4, stratify = data['species'], random_state = 42)\n",
    "X_train = train[['sepal_length','sepal_width','petal_length','petal_width']]\n",
    "y_train = train.species\n",
    "X_test = test[['sepal_length','sepal_width','petal_length','petal_width']]\n",
    "y_test = test.species"
   ]
  },
  {
   "cell_type": "code",
   "execution_count": 14,
   "metadata": {
    "tags": []
   },
   "outputs": [
    {
     "name": "stdout",
     "output_type": "stream",
     "text": [
      "The accuracy of the Decision Tree is 0.983\n"
     ]
    }
   ],
   "source": [
    "mod_dt = DecisionTreeClassifier(max_depth = 3, random_state = 1)\n",
    "mod_dt.fit(X_train,y_train)\n",
    "prediction=mod_dt.predict(X_test)\n",
    "print('The accuracy of the Decision Tree is',\"{:.3f}\".format(metrics.accuracy_score(prediction,y_test)))"
   ]
  },
  {
   "cell_type": "code",
   "execution_count": 15,
   "metadata": {
    "tags": []
   },
   "outputs": [
    {
     "data": {
      "text/plain": [
       "['artifacts/model.joblib']"
      ]
     },
     "execution_count": 15,
     "metadata": {},
     "output_type": "execute_result"
    }
   ],
   "source": [
    "import pickle\n",
    "import joblib\n",
    "\n",
    "joblib.dump(mod_dt, \"artifacts/model.joblib\")"
   ]
  },
  {
   "cell_type": "markdown",
   "metadata": {
    "id": "3849066a33bd"
   },
   "source": [
    "### Upload model artifacts and custom code to Cloud Storage\n",
    "\n",
    "Before you can deploy your model for serving, Vertex AI needs access to the following files in Cloud Storage:\n",
    "\n",
    "* `model.joblib` (model artifact)\n",
    "* `preprocessor.pkl` (model artifact)\n",
    "\n",
    "Run the following commands to upload your files:"
   ]
  },
  {
   "cell_type": "code",
   "execution_count": 16,
   "metadata": {
    "id": "ca67ee52d4d9",
    "tags": []
   },
   "outputs": [
    {
     "name": "stdout",
     "output_type": "stream",
     "text": [
      "Copying file://artifacts/model.joblib [Content-Type=application/octet-stream]...\n",
      "/ [1 files][  2.6 KiB/  2.6 KiB]                                                \n",
      "Operation completed over 1 objects/2.6 KiB.                                      \n"
     ]
    }
   ],
   "source": [
    "!gsutil cp artifacts/model.joblib {BUCKET_URI}/{MODEL_ARTIFACT_DIR}/"
   ]
  },
  {
   "cell_type": "code",
   "execution_count": 1,
   "metadata": {},
   "outputs": [
    {
     "name": "stdout",
     "output_type": "stream",
     "text": [
      "\u001b[?25l\u001b[32m⠋\u001b[0m Checking graph                                       core\u001b[39m>\n",
      "Adding...                                                                       \n",
      "!\u001b[A\n",
      "Collecting files and computing hashes in iris.csv     |0.00 [00:00,     ?file/s]\u001b[A\n",
      "Adding...                                                                       \u001b[A\n",
      "\u001b[31mERROR\u001b[39m: unexpected error - no such column: \"size\" - should this be a string literal in single-quotes?\n",
      "\n",
      "\u001b[33mHaving any troubles?\u001b[0m Hit us up at \u001b[34mhttps://dvc.org/support\u001b[0m, we are always happy to help!\n",
      "\u001b[0m"
     ]
    }
   ],
   "source": [
    "!dvc add iris.csv"
   ]
  },
  {
   "cell_type": "code",
   "execution_count": 2,
   "metadata": {
    "tags": []
   },
   "outputs": [
    {
     "name": "stdout",
     "output_type": "stream",
     "text": [
      "Reinitialized existing Git repository in /home/jupyter/.git/\n",
      "\u001b[31mERROR\u001b[39m: failed to initiate DVC - '.dvc' exists. Use `-f` to force.\n",
      "\u001b[0m"
     ]
    }
   ],
   "source": [
    "!git init\n",
    "!dvc init"
   ]
  },
  {
   "cell_type": "code",
   "execution_count": 3,
   "metadata": {
    "tags": []
   },
   "outputs": [
    {
     "name": "stdout",
     "output_type": "stream",
     "text": [
      "Requirement already satisfied: dvc in /opt/conda/lib/python3.10/site-packages (3.60.1)\n",
      "Requirement already satisfied: attrs>=22.2.0 in /opt/conda/lib/python3.10/site-packages (from dvc) (25.3.0)\n",
      "Requirement already satisfied: celery in /opt/conda/lib/python3.10/site-packages (from dvc) (5.5.3)\n",
      "Requirement already satisfied: colorama>=0.3.9 in /opt/conda/lib/python3.10/site-packages (from dvc) (0.4.6)\n",
      "Requirement already satisfied: configobj>=5.0.9 in /opt/conda/lib/python3.10/site-packages (from dvc) (5.0.9)\n",
      "Requirement already satisfied: distro>=1.3 in /opt/conda/lib/python3.10/site-packages (from dvc) (1.9.0)\n",
      "Requirement already satisfied: dpath<3,>=2.1.0 in /opt/conda/lib/python3.10/site-packages (from dvc) (2.2.0)\n",
      "Requirement already satisfied: dulwich in /opt/conda/lib/python3.10/site-packages (from dvc) (0.23.0)\n",
      "Requirement already satisfied: dvc-data<3.17,>=3.16.2 in /opt/conda/lib/python3.10/site-packages (from dvc) (3.16.10)\n",
      "Requirement already satisfied: dvc-http>=2.29.0 in /opt/conda/lib/python3.10/site-packages (from dvc) (2.32.0)\n",
      "Requirement already satisfied: dvc-objects in /opt/conda/lib/python3.10/site-packages (from dvc) (5.1.1)\n",
      "Requirement already satisfied: dvc-render<2,>=1.0.1 in /opt/conda/lib/python3.10/site-packages (from dvc) (1.0.2)\n",
      "Requirement already satisfied: dvc-studio-client<1,>=0.21 in /opt/conda/lib/python3.10/site-packages (from dvc) (0.21.0)\n",
      "Requirement already satisfied: dvc-task<1,>=0.3.0 in /opt/conda/lib/python3.10/site-packages (from dvc) (0.40.2)\n",
      "Requirement already satisfied: flatten_dict<1,>=0.4.1 in /opt/conda/lib/python3.10/site-packages (from dvc) (0.4.2)\n",
      "Requirement already satisfied: flufl.lock<9,>=8.1.0 in /opt/conda/lib/python3.10/site-packages (from dvc) (8.2.0)\n",
      "Requirement already satisfied: fsspec>=2024.2.0 in /opt/conda/lib/python3.10/site-packages (from dvc) (2025.3.0)\n",
      "Requirement already satisfied: funcy>=1.14 in /opt/conda/lib/python3.10/site-packages (from dvc) (2.0)\n",
      "Requirement already satisfied: grandalf<1,>=0.7 in /opt/conda/lib/python3.10/site-packages (from dvc) (0.8)\n",
      "Requirement already satisfied: gto<2,>=1.6.0 in /opt/conda/lib/python3.10/site-packages (from dvc) (1.7.2)\n",
      "Requirement already satisfied: hydra-core>=1.1 in /opt/conda/lib/python3.10/site-packages (from dvc) (1.3.2)\n",
      "Requirement already satisfied: iterative-telemetry>=0.0.7 in /opt/conda/lib/python3.10/site-packages (from dvc) (0.0.10)\n",
      "Requirement already satisfied: kombu in /opt/conda/lib/python3.10/site-packages (from dvc) (5.5.4)\n",
      "Requirement already satisfied: networkx>=2.5 in /opt/conda/lib/python3.10/site-packages (from dvc) (3.4.2)\n",
      "Requirement already satisfied: omegaconf in /opt/conda/lib/python3.10/site-packages (from dvc) (2.3.0)\n",
      "Requirement already satisfied: packaging>=19 in /opt/conda/lib/python3.10/site-packages (from dvc) (24.2)\n",
      "Requirement already satisfied: pathspec>=0.10.3 in /opt/conda/lib/python3.10/site-packages (from dvc) (0.12.1)\n",
      "Requirement already satisfied: platformdirs<5,>=3.1.1 in /opt/conda/lib/python3.10/site-packages (from dvc) (4.3.6)\n",
      "Requirement already satisfied: psutil>=5.8 in /opt/conda/lib/python3.10/site-packages (from dvc) (5.9.3)\n",
      "Requirement already satisfied: pydot>=1.2.4 in /opt/conda/lib/python3.10/site-packages (from dvc) (4.0.1)\n",
      "Requirement already satisfied: pygtrie>=2.3.2 in /opt/conda/lib/python3.10/site-packages (from dvc) (2.5.0)\n",
      "Requirement already satisfied: pyparsing>=2.4.7 in /opt/conda/lib/python3.10/site-packages (from dvc) (3.2.3)\n",
      "Requirement already satisfied: requests>=2.22 in /opt/conda/lib/python3.10/site-packages (from dvc) (2.32.3)\n",
      "Requirement already satisfied: rich>=12 in /opt/conda/lib/python3.10/site-packages (from dvc) (13.9.4)\n",
      "Requirement already satisfied: ruamel.yaml>=0.17.11 in /opt/conda/lib/python3.10/site-packages (from dvc) (0.18.10)\n",
      "Requirement already satisfied: scmrepo<4,>=3.3.8 in /opt/conda/lib/python3.10/site-packages (from dvc) (3.3.11)\n",
      "Requirement already satisfied: shortuuid>=0.5 in /opt/conda/lib/python3.10/site-packages (from dvc) (1.0.13)\n",
      "Requirement already satisfied: shtab<2,>=1.3.4 in /opt/conda/lib/python3.10/site-packages (from dvc) (1.7.2)\n",
      "Requirement already satisfied: tabulate>=0.8.7 in /opt/conda/lib/python3.10/site-packages (from dvc) (0.9.0)\n",
      "Requirement already satisfied: tomlkit>=0.11.1 in /opt/conda/lib/python3.10/site-packages (from dvc) (0.13.3)\n",
      "Requirement already satisfied: tqdm<5,>=4.63.1 in /opt/conda/lib/python3.10/site-packages (from dvc) (4.67.1)\n",
      "Requirement already satisfied: voluptuous>=0.11.7 in /opt/conda/lib/python3.10/site-packages (from dvc) (0.15.2)\n",
      "Requirement already satisfied: zc.lockfile>=1.2.1 in /opt/conda/lib/python3.10/site-packages (from dvc) (3.0.post1)\n",
      "Requirement already satisfied: dictdiffer>=0.8.1 in /opt/conda/lib/python3.10/site-packages (from dvc-data<3.17,>=3.16.2->dvc) (0.9.0)\n",
      "Requirement already satisfied: diskcache>=5.2.1 in /opt/conda/lib/python3.10/site-packages (from dvc-data<3.17,>=3.16.2->dvc) (5.6.3)\n",
      "Requirement already satisfied: sqltrie<1,>=0.11.0 in /opt/conda/lib/python3.10/site-packages (from dvc-data<3.17,>=3.16.2->dvc) (0.11.2)\n",
      "Requirement already satisfied: orjson<4,>=3 in /opt/conda/lib/python3.10/site-packages (from dvc-data<3.17,>=3.16.2->dvc) (3.10.18)\n",
      "Requirement already satisfied: aiohttp-retry>=2.5.0 in /opt/conda/lib/python3.10/site-packages (from dvc-http>=2.29.0->dvc) (2.9.1)\n",
      "Requirement already satisfied: billiard<5.0,>=4.2.1 in /opt/conda/lib/python3.10/site-packages (from celery->dvc) (4.2.1)\n",
      "Requirement already satisfied: vine<6.0,>=5.1.0 in /opt/conda/lib/python3.10/site-packages (from celery->dvc) (5.1.0)\n",
      "Requirement already satisfied: click<9.0,>=8.1.2 in /opt/conda/lib/python3.10/site-packages (from celery->dvc) (8.1.8)\n",
      "Requirement already satisfied: click-didyoumean>=0.3.0 in /opt/conda/lib/python3.10/site-packages (from celery->dvc) (0.3.1)\n",
      "Requirement already satisfied: click-repl>=0.2.0 in /opt/conda/lib/python3.10/site-packages (from celery->dvc) (0.3.0)\n",
      "Requirement already satisfied: click-plugins>=1.1.1 in /opt/conda/lib/python3.10/site-packages (from celery->dvc) (1.1.1.2)\n",
      "Requirement already satisfied: python-dateutil>=2.8.2 in /opt/conda/lib/python3.10/site-packages (from celery->dvc) (2.9.0.post0)\n",
      "Requirement already satisfied: six<2.0,>=1.12 in /opt/conda/lib/python3.10/site-packages (from flatten_dict<1,>=0.4.1->dvc) (1.17.0)\n",
      "Requirement already satisfied: atpublic in /opt/conda/lib/python3.10/site-packages (from flufl.lock<9,>=8.1.0->dvc) (5.1)\n",
      "Requirement already satisfied: entrypoints in /opt/conda/lib/python3.10/site-packages (from gto<2,>=1.6.0->dvc) (0.4)\n",
      "Requirement already satisfied: pydantic!=2.0.0,<3,>=1.9.0 in /opt/conda/lib/python3.10/site-packages (from gto<2,>=1.6.0->dvc) (2.11.0)\n",
      "Requirement already satisfied: semver>=2.13.0 in /opt/conda/lib/python3.10/site-packages (from gto<2,>=1.6.0->dvc) (3.0.4)\n",
      "Requirement already satisfied: typer>=0.4.1 in /opt/conda/lib/python3.10/site-packages (from gto<2,>=1.6.0->dvc) (0.16.0)\n",
      "Requirement already satisfied: antlr4-python3-runtime==4.9.* in /opt/conda/lib/python3.10/site-packages (from hydra-core>=1.1->dvc) (4.9.3)\n",
      "Requirement already satisfied: appdirs in /opt/conda/lib/python3.10/site-packages (from iterative-telemetry>=0.0.7->dvc) (1.4.4)\n",
      "Requirement already satisfied: filelock in /opt/conda/lib/python3.10/site-packages (from iterative-telemetry>=0.0.7->dvc) (3.18.0)\n",
      "Requirement already satisfied: amqp<6.0.0,>=5.1.1 in /opt/conda/lib/python3.10/site-packages (from kombu->dvc) (5.3.1)\n",
      "Requirement already satisfied: tzdata>=2025.2 in /opt/conda/lib/python3.10/site-packages (from kombu->dvc) (2025.2)\n",
      "Requirement already satisfied: PyYAML>=5.1.0 in /opt/conda/lib/python3.10/site-packages (from omegaconf->dvc) (6.0.2)\n",
      "Requirement already satisfied: charset_normalizer<4,>=2 in /opt/conda/lib/python3.10/site-packages (from requests>=2.22->dvc) (3.4.1)\n",
      "Requirement already satisfied: idna<4,>=2.5 in /opt/conda/lib/python3.10/site-packages (from requests>=2.22->dvc) (3.10)\n",
      "Requirement already satisfied: urllib3<3,>=1.21.1 in /opt/conda/lib/python3.10/site-packages (from requests>=2.22->dvc) (1.26.20)\n",
      "Requirement already satisfied: certifi>=2017.4.17 in /opt/conda/lib/python3.10/site-packages (from requests>=2.22->dvc) (2025.1.31)\n",
      "Requirement already satisfied: markdown-it-py>=2.2.0 in /opt/conda/lib/python3.10/site-packages (from rich>=12->dvc) (3.0.0)\n",
      "Requirement already satisfied: pygments<3.0.0,>=2.13.0 in /opt/conda/lib/python3.10/site-packages (from rich>=12->dvc) (2.19.1)\n",
      "Requirement already satisfied: typing-extensions<5.0,>=4.0.0 in /opt/conda/lib/python3.10/site-packages (from rich>=12->dvc) (4.13.0)\n",
      "Requirement already satisfied: ruamel.yaml.clib>=0.2.7 in /opt/conda/lib/python3.10/site-packages (from ruamel.yaml>=0.17.11->dvc) (0.2.8)\n",
      "Requirement already satisfied: gitpython>3 in /opt/conda/lib/python3.10/site-packages (from scmrepo<4,>=3.3.8->dvc) (3.1.44)\n",
      "Requirement already satisfied: pygit2>=1.14.0 in /opt/conda/lib/python3.10/site-packages (from scmrepo<4,>=3.3.8->dvc) (1.18.0)\n",
      "Requirement already satisfied: asyncssh<3,>=2.13.1 in /opt/conda/lib/python3.10/site-packages (from scmrepo<4,>=3.3.8->dvc) (2.21.0)\n",
      "Requirement already satisfied: setuptools in /opt/conda/lib/python3.10/site-packages (from zc.lockfile>=1.2.1->dvc) (75.8.2)\n",
      "Requirement already satisfied: aiohttp in /opt/conda/lib/python3.10/site-packages (from aiohttp-retry>=2.5.0->dvc-http>=2.29.0->dvc) (3.11.14)\n",
      "Requirement already satisfied: cryptography>=39.0 in /opt/conda/lib/python3.10/site-packages (from asyncssh<3,>=2.13.1->scmrepo<4,>=3.3.8->dvc) (44.0.2)\n",
      "Requirement already satisfied: prompt-toolkit>=3.0.36 in /opt/conda/lib/python3.10/site-packages (from click-repl>=0.2.0->celery->dvc) (3.0.50)\n",
      "Requirement already satisfied: gitdb<5,>=4.0.1 in /opt/conda/lib/python3.10/site-packages (from gitpython>3->scmrepo<4,>=3.3.8->dvc) (4.0.12)\n",
      "Requirement already satisfied: mdurl~=0.1 in /opt/conda/lib/python3.10/site-packages (from markdown-it-py>=2.2.0->rich>=12->dvc) (0.1.2)\n",
      "Requirement already satisfied: annotated-types>=0.6.0 in /opt/conda/lib/python3.10/site-packages (from pydantic!=2.0.0,<3,>=1.9.0->gto<2,>=1.6.0->dvc) (0.7.0)\n",
      "Requirement already satisfied: pydantic-core==2.33.0 in /opt/conda/lib/python3.10/site-packages (from pydantic!=2.0.0,<3,>=1.9.0->gto<2,>=1.6.0->dvc) (2.33.0)\n",
      "Requirement already satisfied: typing-inspection>=0.4.0 in /opt/conda/lib/python3.10/site-packages (from pydantic!=2.0.0,<3,>=1.9.0->gto<2,>=1.6.0->dvc) (0.4.0)\n",
      "Requirement already satisfied: cffi>=1.17.0 in /opt/conda/lib/python3.10/site-packages (from pygit2>=1.14.0->scmrepo<4,>=3.3.8->dvc) (1.17.1)\n",
      "Requirement already satisfied: shellingham>=1.3.0 in /opt/conda/lib/python3.10/site-packages (from typer>=0.4.1->gto<2,>=1.6.0->dvc) (1.5.4)\n",
      "Requirement already satisfied: aiohappyeyeballs>=2.3.0 in /opt/conda/lib/python3.10/site-packages (from aiohttp->aiohttp-retry>=2.5.0->dvc-http>=2.29.0->dvc) (2.6.1)\n",
      "Requirement already satisfied: aiosignal>=1.1.2 in /opt/conda/lib/python3.10/site-packages (from aiohttp->aiohttp-retry>=2.5.0->dvc-http>=2.29.0->dvc) (1.3.2)\n",
      "Requirement already satisfied: async-timeout<6.0,>=4.0 in /opt/conda/lib/python3.10/site-packages (from aiohttp->aiohttp-retry>=2.5.0->dvc-http>=2.29.0->dvc) (5.0.1)\n",
      "Requirement already satisfied: frozenlist>=1.1.1 in /opt/conda/lib/python3.10/site-packages (from aiohttp->aiohttp-retry>=2.5.0->dvc-http>=2.29.0->dvc) (1.5.0)\n",
      "Requirement already satisfied: multidict<7.0,>=4.5 in /opt/conda/lib/python3.10/site-packages (from aiohttp->aiohttp-retry>=2.5.0->dvc-http>=2.29.0->dvc) (6.2.0)\n",
      "Requirement already satisfied: propcache>=0.2.0 in /opt/conda/lib/python3.10/site-packages (from aiohttp->aiohttp-retry>=2.5.0->dvc-http>=2.29.0->dvc) (0.3.1)\n",
      "Requirement already satisfied: yarl<2.0,>=1.17.0 in /opt/conda/lib/python3.10/site-packages (from aiohttp->aiohttp-retry>=2.5.0->dvc-http>=2.29.0->dvc) (1.18.3)\n",
      "Requirement already satisfied: pycparser in /opt/conda/lib/python3.10/site-packages (from cffi>=1.17.0->pygit2>=1.14.0->scmrepo<4,>=3.3.8->dvc) (2.22)\n",
      "Requirement already satisfied: smmap<6,>=3.0.1 in /opt/conda/lib/python3.10/site-packages (from gitdb<5,>=4.0.1->gitpython>3->scmrepo<4,>=3.3.8->dvc) (5.0.2)\n",
      "Requirement already satisfied: wcwidth in /opt/conda/lib/python3.10/site-packages (from prompt-toolkit>=3.0.36->click-repl>=0.2.0->celery->dvc) (0.2.13)\n"
     ]
    }
   ],
   "source": [
    "!pip install dvc"
   ]
  },
  {
   "cell_type": "code",
   "execution_count": 4,
   "metadata": {
    "tags": []
   },
   "outputs": [
    {
     "name": "stdout",
     "output_type": "stream",
     "text": [
      "Reinitialized existing Git repository in /home/jupyter/.git/\n"
     ]
    }
   ],
   "source": [
    "!git init"
   ]
  },
  {
   "cell_type": "code",
   "execution_count": 6,
   "metadata": {
    "tags": []
   },
   "outputs": [
    {
     "name": "stdout",
     "output_type": "stream",
     "text": [
      "Initialized DVC repository.\n",
      "\n",
      "You can now commit the changes to git.\n",
      "\n",
      "\u001b[31m+---------------------------------------------------------------------+\n",
      "\u001b[0m\u001b[31m|\u001b[0m                                                                     \u001b[31m|\u001b[0m\n",
      "\u001b[31m|\u001b[0m        DVC has enabled anonymous aggregate usage analytics.         \u001b[31m|\u001b[0m\n",
      "\u001b[31m|\u001b[0m     Read the analytics documentation (and how to opt-out) here:     \u001b[31m|\u001b[0m\n",
      "\u001b[31m|\u001b[0m             <\u001b[36mhttps://dvc.org/doc/user-guide/analytics\u001b[39m>              \u001b[31m|\u001b[0m\n",
      "\u001b[31m|\u001b[0m                                                                     \u001b[31m|\u001b[0m\n",
      "\u001b[31m+---------------------------------------------------------------------+\n",
      "\u001b[0m\n",
      "\u001b[33mWhat's next?\u001b[39m\n",
      "\u001b[33m------------\u001b[39m\n",
      "- Check out the documentation: <\u001b[36mhttps://dvc.org/doc\u001b[39m>\n",
      "- Get help and share ideas: <\u001b[36mhttps://dvc.org/chat\u001b[39m>\n",
      "- Star us on GitHub: <\u001b[36mhttps://github.com/iterative/dvc\u001b[39m>\n",
      "\u001b[0m"
     ]
    }
   ],
   "source": [
    "!dvc init -f"
   ]
  },
  {
   "cell_type": "code",
   "execution_count": 7,
   "metadata": {
    "tags": []
   },
   "outputs": [
    {
     "name": "stdout",
     "output_type": "stream",
     "text": [
      "\u001b[?25l                                                                core\u001b[39m>\u001b[32m⠋\u001b[0m Checking graph\n",
      "Adding...                                                                       \n",
      "!\u001b[A\n",
      "Collecting files and computing hashes in iris.csv     |0.00 [00:00,     ?file/s]\u001b[A\n",
      "Adding...                                                                       \u001b[A\n",
      "\u001b[31mERROR\u001b[39m: unexpected error - no such column: \"size\" - should this be a string literal in single-quotes?\n",
      "\n",
      "\u001b[33mHaving any troubles?\u001b[0m Hit us up at \u001b[34mhttps://dvc.org/support\u001b[0m, we are always happy to help!\n",
      "\u001b[0m"
     ]
    }
   ],
   "source": [
    "!dvc add iris.csv"
   ]
  },
  {
   "cell_type": "code",
   "execution_count": null,
   "metadata": {
    "tags": []
   },
   "outputs": [],
   "source": [
    "import sqlite3\n",
    "print(sqlite3.sqlite_version)"
   ]
  },
  {
   "cell_type": "code",
   "execution_count": null,
   "metadata": {},
   "outputs": [],
   "source": []
  }
 ],
 "metadata": {
  "colab": {
   "collapsed_sections": [],
   "name": "SDK_Custom_Container_Prediction.ipynb",
   "toc_visible": true
  },
  "environment": {
   "kernel": "conda-base-py",
   "name": "workbench-notebooks.m129",
   "type": "gcloud",
   "uri": "us-docker.pkg.dev/deeplearning-platform-release/gcr.io/workbench-notebooks:m129"
  },
  "kernelspec": {
   "display_name": "Python 3 (ipykernel)",
   "language": "python",
   "name": "conda-base-py"
  },
  "language_info": {
   "codemirror_mode": {
    "name": "ipython",
    "version": 3
   },
   "file_extension": ".py",
   "mimetype": "text/x-python",
   "name": "python",
   "nbconvert_exporter": "python",
   "pygments_lexer": "ipython3",
   "version": "3.10.16"
  }
 },
 "nbformat": 4,
 "nbformat_minor": 4
}
